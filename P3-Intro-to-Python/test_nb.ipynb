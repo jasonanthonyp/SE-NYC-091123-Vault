{
 "cells": [
  {
   "cell_type": "code",
   "execution_count": 2,
   "id": "558f99e7-43fb-4a8d-9477-9c1f6be03812",
   "metadata": {},
   "outputs": [
    {
     "name": "stdout",
     "output_type": "stream",
     "text": [
      "hello there\n"
     ]
    }
   ],
   "source": [
    "print(\"hello there\")"
   ]
  },
  {
   "cell_type": "code",
   "execution_count": 3,
   "id": "dff8157e-0da5-4d94-a847-1ca91ab6c986",
   "metadata": {},
   "outputs": [
    {
     "name": "stdout",
     "output_type": "stream",
     "text": [
      "hi there\n"
     ]
    }
   ],
   "source": [
    "print(\"hi there\")"
   ]
  },
  {
   "cell_type": "code",
   "execution_count": 4,
   "id": "6d5d5623-bbd1-4545-a78c-695e0212ad61",
   "metadata": {},
   "outputs": [
    {
     "name": "stdout",
     "output_type": "stream",
     "text": [
      "its monday\n"
     ]
    }
   ],
   "source": [
    "print(\"its monday\")"
   ]
  },
  {
   "cell_type": "code",
   "execution_count": null,
   "id": "b59ec0e4-17bd-472f-87b2-c9122654ae22",
   "metadata": {},
   "outputs": [],
   "source": []
  },
  {
   "cell_type": "code",
   "execution_count": 1,
   "id": "d27e4a56-902e-4c5f-9785-130ed0231a57",
   "metadata": {},
   "outputs": [],
   "source": [
    "def say_hi():\n",
    "    print(\"hi there\")"
   ]
  },
  {
   "cell_type": "code",
   "execution_count": 5,
   "id": "857aa7e3-2294-47f4-927c-c414c1ba4493",
   "metadata": {},
   "outputs": [
    {
     "name": "stdout",
     "output_type": "stream",
     "text": [
      "hi there\n"
     ]
    }
   ],
   "source": [
    "say_hi()"
   ]
  }
 ],
 "metadata": {
  "kernelspec": {
   "display_name": "Python 3 (ipykernel)",
   "language": "python",
   "name": "python3"
  },
  "language_info": {
   "codemirror_mode": {
    "name": "ipython",
    "version": 3
   },
   "file_extension": ".py",
   "mimetype": "text/x-python",
   "name": "python",
   "nbconvert_exporter": "python",
   "pygments_lexer": "ipython3",
   "version": "3.8.13"
  }
 },
 "nbformat": 4,
 "nbformat_minor": 5
}
