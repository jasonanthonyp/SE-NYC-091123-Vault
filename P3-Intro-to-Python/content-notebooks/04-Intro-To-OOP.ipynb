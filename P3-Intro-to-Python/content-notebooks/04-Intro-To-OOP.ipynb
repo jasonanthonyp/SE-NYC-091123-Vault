{
 "cells": [
  {
   "cell_type": "markdown",
   "id": "2eaea13d-5fc4-4642-8ef0-da061d4f6d3a",
   "metadata": {},
   "source": [
    "---\n",
    "---\n",
    "---"
   ]
  },
  {
   "cell_type": "markdown",
   "id": "93e001ab-cae5-4752-bb98-bf62ad88ea2c",
   "metadata": {},
   "source": [
    "# Introduction to Object-Oriented Programming"
   ]
  },
  {
   "cell_type": "markdown",
   "id": "0aba3cae-50c6-4271-b8c2-a41c439b6db4",
   "metadata": {},
   "source": [
    "|Term                           | Definition\n",
    "|-------------------------------|-----------------------------|\n",
    "|**Object**                     | A powerful and higher-order data structure that can **contextually store data and functionality** to handle that data. |\n",
    "|**Class**                      | A type of **blueprint** by which to construct objects. |\n",
    "|**Instance**                   | A **physically created copy of an object**, created from \"instantiating\" a class. |\n",
    "|**Attribute**                  | A **special type of variable** owned by a class or object. |\n",
    "|**Method**                     | A **special type of function** owned by a class or object. |\n",
    "|**`self`**                     | A Python **keyword that refers to an instance** of an object; `self` is generally used to instruct classes on how to work with its attributes and methods. |\n",
    "|**`__init__()`**               | A unique object method called a **constructor** that – when an object instance is created – is automatically executed; commonly used to **set up an object's attributes** and even its methods. |"
   ]
  },
  {
   "cell_type": "markdown",
   "id": "091f53e4-f23c-4b62-a8b9-8b46dfcf7a7e",
   "metadata": {},
   "source": [
    "## Introducing Objects"
   ]
  },
  {
   "cell_type": "markdown",
   "id": "1ae121c2-eb27-491e-afdf-be525522f877",
   "metadata": {},
   "source": [
    "![](https://encrypted-tbn0.gstatic.com/images?q=tbn:ANd9GcSCEcZA5UKc48Wn5_2SzHAJoYLdgZgoBXrWr9ZtqN8LY4qVqe9U4ctk1C96OJhmSJ1zn-Y&usqp=CAU)"
   ]
  },
  {
   "cell_type": "markdown",
   "id": "749e6c10-c224-4b54-b694-50c58d4e8584",
   "metadata": {},
   "source": [
    "## Classes and Instances"
   ]
  },
  {
   "cell_type": "markdown",
   "id": "59c3aa7d-06c1-4e5a-b998-d0ca74507170",
   "metadata": {},
   "source": [
    "**Understanding Objects.**"
   ]
  },
  {
   "cell_type": "code",
   "execution_count": null,
   "id": "719b364b-eaee-4a00-b41f-cfb0ee0560c4",
   "metadata": {},
   "outputs": [],
   "source": [
    "object()"
   ]
  },
  {
   "cell_type": "code",
   "execution_count": null,
   "id": "ab72abb0-6bb6-43c8-936b-b8ccafe13c3b",
   "metadata": {},
   "outputs": [],
   "source": [
    "object?"
   ]
  },
  {
   "cell_type": "markdown",
   "id": "c6038368-a19c-4f5a-a691-807b39a2bcbe",
   "metadata": {},
   "source": [
    "**Understanding Classes.**"
   ]
  },
  {
   "cell_type": "code",
   "execution_count": null,
   "id": "6dff4ee6-054f-417d-b65b-5bfbbb392ad3",
   "metadata": {},
   "outputs": [],
   "source": [
    "class BakedGood:\n",
    "    \"\"\" This is my class for defining baked good objects. \"\"\"\n",
    "    pass"
   ]
  },
  {
   "cell_type": "code",
   "execution_count": null,
   "id": "95cbb466-0e68-44fc-9aff-51d8d7ff7619",
   "metadata": {},
   "outputs": [],
   "source": [
    "BakedGood"
   ]
  },
  {
   "cell_type": "code",
   "execution_count": null,
   "id": "516ea3d1-c3a4-405f-92d9-bbdbc57c6edb",
   "metadata": {},
   "outputs": [],
   "source": [
    "BakedGood()"
   ]
  },
  {
   "cell_type": "code",
   "execution_count": null,
   "id": "fd1f409a-21bb-4334-bf24-c74bd1cefad6",
   "metadata": {},
   "outputs": [],
   "source": [
    "BakedGood?"
   ]
  },
  {
   "cell_type": "markdown",
   "id": "a42c0daf-f9cf-47ae-9d09-661b7355cbde",
   "metadata": {},
   "source": [
    "**Understanding Object Instances.**"
   ]
  },
  {
   "cell_type": "code",
   "execution_count": null,
   "id": "a772dff9-e341-4e1f-a0d8-c12671428799",
   "metadata": {},
   "outputs": [],
   "source": [
    "sweet_roll = BakedGood()\n",
    "cookie = BakedGood()\n",
    "cake = BakedGood()"
   ]
  },
  {
   "cell_type": "code",
   "execution_count": null,
   "id": "6ac0290d-4f0e-4b9a-986c-6b3b55a34db7",
   "metadata": {},
   "outputs": [],
   "source": [
    "sweet_roll"
   ]
  },
  {
   "cell_type": "code",
   "execution_count": null,
   "id": "6dcadc0d-769e-4a1a-8837-93853abab240",
   "metadata": {},
   "outputs": [],
   "source": [
    "type(sweet_roll)"
   ]
  },
  {
   "cell_type": "code",
   "execution_count": null,
   "id": "f70da198-ef91-471e-bb95-7a58a8254572",
   "metadata": {},
   "outputs": [],
   "source": [
    "sweet_roll?"
   ]
  },
  {
   "cell_type": "markdown",
   "id": "64db1849-5196-4978-b7f1-939deb88327f",
   "metadata": {},
   "source": [
    "## Being More `self` Aware"
   ]
  },
  {
   "cell_type": "markdown",
   "id": "a1d71315-46e7-4b56-a4bc-9ab392bd7b99",
   "metadata": {},
   "source": [
    "### `__init__()`, the Constructor"
   ]
  },
  {
   "cell_type": "code",
   "execution_count": null,
   "id": "e4f69c34-e4b0-4622-a9d7-fdf1eda363ee",
   "metadata": {},
   "outputs": [],
   "source": [
    "class BakedGood:\n",
    "    def __init__(self):\n",
    "        pass"
   ]
  },
  {
   "cell_type": "markdown",
   "id": "0aec2b00-5f98-40e7-9ef3-33f19908860f",
   "metadata": {},
   "source": [
    "### Instance Attributes"
   ]
  },
  {
   "cell_type": "markdown",
   "id": "9a74736c-8e7b-43d5-918c-3ba7361373af",
   "metadata": {},
   "source": [
    "Defining a class with hardcoded object attributes."
   ]
  },
  {
   "cell_type": "code",
   "execution_count": null,
   "id": "e58aa56c-02af-4f91-8419-5e5595082804",
   "metadata": {},
   "outputs": [],
   "source": [
    "class BakedGood:\n",
    "    def __init__(self):\n",
    "        self.servings = 8\n",
    "        self.has_chocolate = True"
   ]
  },
  {
   "cell_type": "code",
   "execution_count": null,
   "id": "bc4d33ad-f74f-408a-a347-1894fb54011d",
   "metadata": {},
   "outputs": [],
   "source": [
    "donut = BakedGood()"
   ]
  },
  {
   "cell_type": "code",
   "execution_count": null,
   "id": "035dab31-bb21-4651-b976-8eaa3bb8d6dd",
   "metadata": {},
   "outputs": [],
   "source": [
    "donut.servings"
   ]
  },
  {
   "cell_type": "code",
   "execution_count": null,
   "id": "8501ea40-a926-40af-be57-f0560ddd4cec",
   "metadata": {},
   "outputs": [],
   "source": [
    "donut.has_chocolate"
   ]
  },
  {
   "cell_type": "markdown",
   "id": "5c4b5d39-b108-4a2a-ae25-1a42799a6e5f",
   "metadata": {},
   "source": [
    "Defining a class with initializable parameters for object attributes."
   ]
  },
  {
   "cell_type": "code",
   "execution_count": null,
   "id": "a79d3ccc-d951-42ad-b964-2f2bbcaf1bbb",
   "metadata": {},
   "outputs": [],
   "source": [
    "class BakedGood:\n",
    "    def __init__(self, name, servings=1, has_chocolate=False):\n",
    "        self.name = name\n",
    "        self.servings = servings\n",
    "        self.has_chocolate = has_chocolate"
   ]
  },
  {
   "cell_type": "markdown",
   "id": "42f57965-fe2c-4e3a-aa56-8bc472c917c7",
   "metadata": {},
   "source": [
    "Leaning on default arguments for object instantiation."
   ]
  },
  {
   "cell_type": "code",
   "execution_count": null,
   "id": "e883487c-579f-4eb2-aea3-1c566305028b",
   "metadata": {},
   "outputs": [],
   "source": [
    "donut = BakedGood(\"Donut\")"
   ]
  },
  {
   "cell_type": "code",
   "execution_count": null,
   "id": "0f034001-f101-4988-a6bc-d918b8324279",
   "metadata": {},
   "outputs": [],
   "source": [
    "donut.name"
   ]
  },
  {
   "cell_type": "code",
   "execution_count": null,
   "id": "cb3964c6-9784-4b5c-bc3e-47a2ed9b9a15",
   "metadata": {},
   "outputs": [],
   "source": [
    "donut.servings"
   ]
  },
  {
   "cell_type": "code",
   "execution_count": null,
   "id": "bf91c485-6147-49ff-b394-342f4fa8035f",
   "metadata": {},
   "outputs": [],
   "source": [
    "donut.has_chocolate"
   ]
  },
  {
   "cell_type": "markdown",
   "id": "6dbbff9f-43ab-4725-9a8e-b61f7a3035bb",
   "metadata": {},
   "source": [
    "Manually overriding defaulted arguments for object instantiation."
   ]
  },
  {
   "cell_type": "code",
   "execution_count": null,
   "id": "c6c15217-9395-465f-a273-22cdb0f93b57",
   "metadata": {},
   "outputs": [],
   "source": [
    "two_chocolate_donuts = BakedGood(\"Two Chocolate Donuts\", 2, True)"
   ]
  },
  {
   "cell_type": "code",
   "execution_count": null,
   "id": "8be00709-8aab-4d24-aac9-c6a4111beb2c",
   "metadata": {},
   "outputs": [],
   "source": [
    "two_chocolate_donuts.name"
   ]
  },
  {
   "cell_type": "code",
   "execution_count": null,
   "id": "64157a96-3ab6-4dab-831f-e02fe284aff9",
   "metadata": {},
   "outputs": [],
   "source": [
    "two_chocolate_donuts.servings"
   ]
  },
  {
   "cell_type": "code",
   "execution_count": null,
   "id": "008e611f-6173-410b-a378-62ebb1b2ce25",
   "metadata": {},
   "outputs": [],
   "source": [
    "two_chocolate_donuts.has_chocolate"
   ]
  },
  {
   "cell_type": "markdown",
   "id": "af97e636-4506-4dbb-a03e-8585dffc4a7a",
   "metadata": {},
   "source": [
    "### Class Attributes"
   ]
  },
  {
   "cell_type": "code",
   "execution_count": null,
   "id": "e16af2ea-3cbd-4933-8e16-8682f1b5af12",
   "metadata": {},
   "outputs": [],
   "source": [
    "class BakedGood:\n",
    "    total_goods_baked = 0\n",
    "    def __init__(self, name, servings=1, has_chocolate=False):\n",
    "        self.name = name\n",
    "        self.servings = servings\n",
    "        self.has_chocolate = has_chocolate\n",
    "        BakedGood.total_goods_baked += 1"
   ]
  },
  {
   "cell_type": "code",
   "execution_count": null,
   "id": "d24e102b-5f12-413a-816d-9abc54ff361a",
   "metadata": {},
   "outputs": [],
   "source": [
    "frosted_donut = BakedGood(name=\"Frosted Donut\", has_chocolate=False, servings=1)\n",
    "chocolate_donut = BakedGood(name=\"Chocolate Donut\", has_chocolate=False, servings=1)\n",
    "super_donut = BakedGood(name=\"Super Donut\", has_chocolate=False, servings=4)"
   ]
  },
  {
   "cell_type": "code",
   "execution_count": null,
   "id": "8e5e39b0-6095-4c86-bd91-1c6c800d4e38",
   "metadata": {},
   "outputs": [],
   "source": [
    "chocolate_donut.total_goods_baked"
   ]
  },
  {
   "cell_type": "code",
   "execution_count": null,
   "id": "9f842fce-9353-42c2-97d2-2f8c89a3e076",
   "metadata": {},
   "outputs": [],
   "source": [
    "BakedGood.total_goods_baked"
   ]
  },
  {
   "cell_type": "code",
   "execution_count": null,
   "id": "4b95a8dd-13b5-488c-a11c-8b48e4319231",
   "metadata": {},
   "outputs": [],
   "source": [
    "class BakedGood:\n",
    "    all_goods_baked = []\n",
    "    def __init__(self, name, servings=1, has_chocolate=False):\n",
    "        self.name = name\n",
    "        self.servings = servings\n",
    "        self.has_chocolate = has_chocolate\n",
    "        BakedGood.all_goods_baked.append(self)"
   ]
  },
  {
   "cell_type": "code",
   "execution_count": null,
   "id": "278205d4-7800-422c-9349-544ca06a4ba6",
   "metadata": {},
   "outputs": [],
   "source": [
    "frosted_donut = BakedGood(name=\"Frosted Donut\", has_chocolate=False, servings=1)\n",
    "chocolate_donut = BakedGood(name=\"Chocolate Donut\", has_chocolate=False, servings=1)\n",
    "super_donut = BakedGood(name=\"Super Donut\", has_chocolate=False, servings=4)"
   ]
  },
  {
   "cell_type": "code",
   "execution_count": null,
   "id": "b46e62c9-ab2e-431d-9562-f2e39ee7e297",
   "metadata": {},
   "outputs": [],
   "source": [
    "BakedGood.all_goods_baked"
   ]
  },
  {
   "cell_type": "code",
   "execution_count": null,
   "id": "0a2de2e7-28a9-4f0b-8234-67086e41eefd",
   "metadata": {},
   "outputs": [],
   "source": [
    "BakedGood.all_goods_baked[0].name"
   ]
  },
  {
   "cell_type": "markdown",
   "id": "244892f3-ff3b-41d1-a731-e92b87bf7d85",
   "metadata": {},
   "source": [
    "## Defining Functionality with Methods"
   ]
  },
  {
   "cell_type": "markdown",
   "id": "d4d92d86-4676-4390-aa61-7c4b69bb3ce2",
   "metadata": {},
   "source": [
    "### Instance Methods"
   ]
  },
  {
   "cell_type": "code",
   "execution_count": null,
   "id": "7373db38-dd29-4887-a703-b351234d5738",
   "metadata": {},
   "outputs": [],
   "source": [
    "class BakedGood:\n",
    "    total_goods_baked, all_goods_baked = 0, []\n",
    "    def __init__(self, name, servings=1, has_chocolate=False):\n",
    "        self.name = name\n",
    "        self.servings = servings\n",
    "        self.has_chocolate = has_chocolate\n",
    "        self.ingredients = []\n",
    "        self.temperature_of_oven = 0\n",
    "        self.ready_to_serve = False\n",
    "\n",
    "    def get_ingredients(self, ingredient_list: list):\n",
    "        self.ingredients.extend(ingredient_list)\n",
    "        return print(f\"Total Ingredients: {self.ingredients}\")\n",
    "\n",
    "    def preheat_oven(self, temperature: int = 350):\n",
    "        self.temperature_of_oven = temperature\n",
    "        return print(f\"Oven temperature is currently {self.temperature_of_oven} degrees.\")\n",
    "\n",
    "    def bake(self, time=60, temperature=350):\n",
    "        if temperature == self.temperature_of_oven:\n",
    "            BakedGood.total_goods_baked += 1\n",
    "            BakedGood.all_goods_baked.append(self)\n",
    "            self.ready_to_serve = True\n",
    "            return print(f\"Just baked a {self.name} at {temperature} degrees for {time} minutes!\")\n",
    "        else:\n",
    "            return print(f\"Oven temperature is not ready! Attempting to bake {self.name} at {temperature} degrees but oven is currently at {self.temperature_of_oven} degrees.\")\n",
    "\n",
    "    def eat(self):\n",
    "        if self.ready_to_serve is True:\n",
    "            print(\"Let's eat!\")\n",
    "            BakedGood.total_goods_baked -= 1\n",
    "            BakedGood.all_goods_baked.remove(self)\n",
    "            self.ready_to_serve = False\n",
    "            print(\"Yum! Delicious!\")\n",
    "        else:\n",
    "            return print(f\"{self.name} is not ready to eat yet!\")"
   ]
  },
  {
   "cell_type": "code",
   "execution_count": null,
   "id": "6f835de7-bbcd-458e-ad81-f7f06043c37e",
   "metadata": {},
   "outputs": [],
   "source": [
    "chocolate_cake = BakedGood(name=\"Chocolate Cake\", servings=12, has_chocolate=True)"
   ]
  },
  {
   "cell_type": "code",
   "execution_count": null,
   "id": "d851104e-4e93-4d90-b699-e7cdd1a8ddfd",
   "metadata": {},
   "outputs": [],
   "source": [
    "chocolate_cake.eat()"
   ]
  },
  {
   "cell_type": "code",
   "execution_count": null,
   "id": "7a5818da-cea1-4402-85e1-24fab55e9a08",
   "metadata": {},
   "outputs": [],
   "source": [
    "chocolate_cake.ready_to_serve"
   ]
  },
  {
   "cell_type": "code",
   "execution_count": null,
   "id": "e1c778bc-4c5f-46fe-8d61-cc2d4736e7e0",
   "metadata": {},
   "outputs": [],
   "source": [
    "chocolate_cake.ingredients"
   ]
  },
  {
   "cell_type": "code",
   "execution_count": null,
   "id": "251714a1-ffc3-4c78-9580-203dbda56908",
   "metadata": {},
   "outputs": [],
   "source": [
    "chocolate_cake.temperature_of_oven"
   ]
  },
  {
   "cell_type": "code",
   "execution_count": null,
   "id": "357fcd02-1c21-439e-94a8-3954a49273e2",
   "metadata": {},
   "outputs": [],
   "source": [
    "chocolate_cake.get_ingredients([\"Flour\", \"Eggs\", \"Vanilla Extract\", \"Chocolate Chips\"])"
   ]
  },
  {
   "cell_type": "code",
   "execution_count": null,
   "id": "84724dff-1c04-47ee-af41-97d74c01a72c",
   "metadata": {},
   "outputs": [],
   "source": [
    "chocolate_cake.get_ingredients([\"Chocolate Frosting\", \"Food Coloring\"])"
   ]
  },
  {
   "cell_type": "code",
   "execution_count": null,
   "id": "ed52491f-929b-4b44-a5c5-bc2fef91d955",
   "metadata": {},
   "outputs": [],
   "source": [
    "chocolate_cake.ingredients"
   ]
  },
  {
   "cell_type": "code",
   "execution_count": null,
   "id": "be0b70e7-6e81-48ea-b26c-71521744dd08",
   "metadata": {},
   "outputs": [],
   "source": [
    "chocolate_cake.eat()"
   ]
  },
  {
   "cell_type": "code",
   "execution_count": null,
   "id": "c901bde3-ffd9-43e6-ad47-b939adbd18fd",
   "metadata": {},
   "outputs": [],
   "source": [
    "chocolate_cake.ready_to_serve"
   ]
  },
  {
   "cell_type": "code",
   "execution_count": null,
   "id": "301b2c78-6f71-481d-be4f-0e37c8109b83",
   "metadata": {},
   "outputs": [],
   "source": [
    "chocolate_cake.bake()"
   ]
  },
  {
   "cell_type": "code",
   "execution_count": null,
   "id": "7d642f45-4ee3-4e37-94c7-ace174692bb9",
   "metadata": {},
   "outputs": [],
   "source": [
    "chocolate_cake.preheat_oven(350)"
   ]
  },
  {
   "cell_type": "code",
   "execution_count": null,
   "id": "7fda66b7-c0d4-41d1-9f49-e039a35d3797",
   "metadata": {},
   "outputs": [],
   "source": [
    "chocolate_cake.bake()"
   ]
  },
  {
   "cell_type": "code",
   "execution_count": null,
   "id": "3cdd2e05-4b34-4c60-a561-5b93f87eb5d2",
   "metadata": {},
   "outputs": [],
   "source": [
    "BakedGood.all_goods_baked, BakedGood.total_goods_baked"
   ]
  },
  {
   "cell_type": "code",
   "execution_count": null,
   "id": "d5974057-8f8d-4a73-bb45-38df85a0d2b5",
   "metadata": {},
   "outputs": [],
   "source": [
    "chocolate_cake.ready_to_serve"
   ]
  },
  {
   "cell_type": "code",
   "execution_count": null,
   "id": "f59b7da2-ba31-40a2-b9ae-696f775a5510",
   "metadata": {},
   "outputs": [],
   "source": [
    "chocolate_cake.eat()"
   ]
  },
  {
   "cell_type": "code",
   "execution_count": null,
   "id": "e68eb0a1-7db0-41ec-b153-a64a4ed1ebf8",
   "metadata": {},
   "outputs": [],
   "source": [
    "BakedGood.all_goods_baked, BakedGood.total_goods_baked"
   ]
  },
  {
   "cell_type": "markdown",
   "id": "9408ec5a-faa3-43c9-b7e2-11552cedc959",
   "metadata": {},
   "source": [
    "## Object Interactivity and Management"
   ]
  },
  {
   "cell_type": "markdown",
   "id": "108fa360-18e3-4e64-9dbd-ea5c5a6d8cd6",
   "metadata": {},
   "source": [
    "### Scoping and Handling Multiple Objects"
   ]
  },
  {
   "cell_type": "code",
   "execution_count": null,
   "id": "7936242f-3ce4-410d-9ce6-b5417bdf8b82",
   "metadata": {},
   "outputs": [],
   "source": [
    "class Ingredient:\n",
    "    # Extend this object with relevant attributes and methods!\n",
    "    def __init__(self):\n",
    "        pass"
   ]
  },
  {
   "cell_type": "code",
   "execution_count": null,
   "id": "bbde7527-a0bb-417f-b1a4-e5d2759b6f46",
   "metadata": {},
   "outputs": [],
   "source": [
    "class Supermarket:\n",
    "    # Extend this object with relevant attributes and methods!\n",
    "    def __init__(self):\n",
    "        pass\n",
    "\n",
    "    def check_item_price(self):\n",
    "        pass"
   ]
  },
  {
   "cell_type": "code",
   "execution_count": null,
   "id": "42007cab-ce2d-4d39-8358-64db4b7588c1",
   "metadata": {},
   "outputs": [],
   "source": [
    "class HomeCook:\n",
    "    # Extend this object with relevant attributes and methods!\n",
    "    def __init__(self): \n",
    "        pass\n",
    "        \n",
    "    def purchase_ingredients(self, ingredient_list: list, store):\n",
    "        pass\n",
    "\n",
    "    def preheat_oven(self, temperature: int = 350):\n",
    "        pass"
   ]
  },
  {
   "cell_type": "code",
   "execution_count": null,
   "id": "22a80d7e-8c51-471c-809a-4bfe1b43f2e5",
   "metadata": {},
   "outputs": [],
   "source": [
    "class Kitchen:\n",
    "    # Extend this object with relevant attributes and methods!\n",
    "    def __init__(self):\n",
    "        self.oven = True\n",
    "        self.microwave = True\n",
    "        self.knife = True\n",
    "        self.pantry = []"
   ]
  },
  {
   "cell_type": "code",
   "execution_count": null,
   "id": "1e785abc-9c45-4a94-8bc7-1b3817f9b87e",
   "metadata": {},
   "outputs": [],
   "source": [
    "class BakedGood:\n",
    "    # Extend this object with relevant attributes and methods!\n",
    "    def __init__(self, has_chocolate, has_nuts, servings):\n",
    "        self.has_chocolate = True\n",
    "        self.has_nuts = False\n",
    "        self.servings = 8"
   ]
  },
  {
   "cell_type": "code",
   "execution_count": null,
   "id": "1d51a2ad-b81e-4984-a406-639462a50a23",
   "metadata": {},
   "outputs": [],
   "source": [
    "# Write your object integration code here! Be creative and have fun with it!"
   ]
  },
  {
   "cell_type": "markdown",
   "id": "234fa904-19e7-429a-89a8-b178e1f36d33",
   "metadata": {},
   "source": [
    "---\n",
    "---\n",
    "---"
   ]
  }
 ],
 "metadata": {
  "kernelspec": {
   "display_name": "Python 3 (ipykernel)",
   "language": "python",
   "name": "python3"
  },
  "language_info": {
   "codemirror_mode": {
    "name": "ipython",
    "version": 3
   },
   "file_extension": ".py",
   "mimetype": "text/x-python",
   "name": "python",
   "nbconvert_exporter": "python",
   "pygments_lexer": "ipython3",
   "version": "3.11.3"
  }
 },
 "nbformat": 4,
 "nbformat_minor": 5
}
