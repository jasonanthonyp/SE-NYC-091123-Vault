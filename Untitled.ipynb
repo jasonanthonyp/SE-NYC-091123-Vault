{
 "cells": [
  {
   "cell_type": "code",
   "execution_count": null,
   "id": "210c173d-71f7-453e-8d1c-b0162616d14e",
   "metadata": {},
   "outputs": [],
   "source": [
    "# Write a program that prints all integers between 100 and 125 (including 100 and 125) to the screen using a for loop.\n",
    "\n"
   ]
  },
  {
   "cell_type": "code",
   "execution_count": 2,
   "id": "bc8956a9-f589-4181-a45d-3e035cb712a9",
   "metadata": {},
   "outputs": [
    {
     "name": "stdout",
     "output_type": "stream",
     "text": [
      "100\n",
      "101\n",
      "102\n",
      "103\n",
      "104\n",
      "105\n",
      "106\n",
      "107\n",
      "108\n",
      "109\n",
      "110\n",
      "111\n",
      "112\n",
      "113\n",
      "114\n",
      "115\n",
      "116\n",
      "117\n",
      "118\n",
      "119\n",
      "120\n",
      "121\n",
      "122\n",
      "123\n",
      "124\n",
      "125\n"
     ]
    }
   ],
   "source": [
    "for num in range(100, 126):\n",
    "    print(num)"
   ]
  },
  {
   "cell_type": "code",
   "execution_count": null,
   "id": "1f8d0c21-3328-4477-8168-1521fd7fe0df",
   "metadata": {},
   "outputs": [],
   "source": [
    "# do the same but this time us a whil loop"
   ]
  },
  {
   "cell_type": "code",
   "execution_count": 8,
   "id": "0ba77b2b-d609-4291-bfd0-60e52ca25d46",
   "metadata": {},
   "outputs": [
    {
     "name": "stdout",
     "output_type": "stream",
     "text": [
      "100\n",
      "101\n",
      "102\n",
      "103\n",
      "104\n",
      "105\n",
      "106\n",
      "107\n",
      "108\n",
      "109\n",
      "110\n",
      "111\n",
      "112\n",
      "113\n",
      "114\n",
      "115\n",
      "116\n",
      "117\n",
      "118\n",
      "119\n",
      "120\n",
      "121\n",
      "122\n",
      "123\n",
      "124\n",
      "125\n"
     ]
    }
   ],
   "source": [
    "num = 100\n",
    "while num < 126:\n",
    "    print (num)\n",
    "    num += 1"
   ]
  },
  {
   "cell_type": "code",
   "execution_count": null,
   "id": "d175da1c-1d3d-400e-852b-a7a5b3d658ee",
   "metadata": {},
   "outputs": [],
   "source": [
    "# Exercise 3\n",
    "# Do the same as exercise 1, but this time only print those numbers between 100 and 125 that are multiples of 3."
   ]
  },
  {
   "cell_type": "code",
   "execution_count": 11,
   "id": "e95d84c9-49c1-44ba-bcaf-5e495d2befc7",
   "metadata": {},
   "outputs": [
    {
     "name": "stdout",
     "output_type": "stream",
     "text": [
      "102\n",
      "105\n",
      "108\n",
      "111\n",
      "114\n",
      "117\n",
      "120\n",
      "123\n"
     ]
    }
   ],
   "source": [
    "for num in range(100, 126):\n",
    "    if num % 3 == 0:\n",
    "        print(num)"
   ]
  },
  {
   "cell_type": "code",
   "execution_count": 8,
   "id": "8bbd1c6c-e899-45c4-8b6a-b393b048737b",
   "metadata": {},
   "outputs": [
    {
     "name": "stdout",
     "output_type": "stream",
     "text": [
      "pear\n",
      "apple\n",
      "banana\n",
      "orange\n"
     ]
    }
   ],
   "source": [
    "fruit_names = ['pear', 'apple', 'banana', 'orange']\n",
    "for names in fruit_names:\n",
    "    print(names)"
   ]
  },
  {
   "cell_type": "code",
   "execution_count": 9,
   "id": "d937901e-f433-468e-ad23-ae0621bdaa61",
   "metadata": {},
   "outputs": [],
   "source": [
    "fruit_colors = ['green', 'red', 'yellow', 'orange']"
   ]
  },
  {
   "cell_type": "code",
   "execution_count": 10,
   "id": "f48e34c5-b524-4cc2-b3ba-79b56e21002c",
   "metadata": {},
   "outputs": [
    {
     "data": {
      "text/plain": [
       "<zip at 0x104ec8c00>"
      ]
     },
     "execution_count": 10,
     "metadata": {},
     "output_type": "execute_result"
    }
   ],
   "source": [
    "zip(fruit_names, fruit_colors)"
   ]
  },
  {
   "cell_type": "code",
   "execution_count": 13,
   "id": "ffef4c47-f200-4ac6-9d5b-1191baa77c6c",
   "metadata": {},
   "outputs": [
    {
     "name": "stdout",
     "output_type": "stream",
     "text": [
      "The pear is green.\n",
      "The apple is red.\n",
      "The banana is yellow.\n",
      "The orange is orange.\n"
     ]
    }
   ],
   "source": [
    "for fruit in zip(fruit_names, fruit_colors):\n",
    "    print (\"The {0} is {1}.\".format(fruit[0], fruit[1]))"
   ]
  },
  {
   "cell_type": "code",
   "execution_count": 19,
   "id": "c5d5a6d6-6711-4256-9f14-9ebf5089f579",
   "metadata": {},
   "outputs": [
    {
     "ename": "NameError",
     "evalue": "name 'raw_input' is not defined",
     "output_type": "error",
     "traceback": [
      "\u001b[0;31m---------------------------------------------------------------------------\u001b[0m",
      "\u001b[0;31mNameError\u001b[0m                                 Traceback (most recent call last)",
      "Cell \u001b[0;32mIn[19], line 6\u001b[0m\n\u001b[1;32m      4\u001b[0m \u001b[38;5;66;03m# We start an infite loop which will break when the user types stop\u001b[39;00m\n\u001b[1;32m      5\u001b[0m \u001b[38;5;28;01mwhile\u001b[39;00m \u001b[38;5;28;01mTrue\u001b[39;00m:\n\u001b[0;32m----> 6\u001b[0m     number \u001b[38;5;241m=\u001b[39m \u001b[43mraw_input\u001b[49m(\u001b[38;5;124m\"\u001b[39m\u001b[38;5;124mEnter a number or type stop: \u001b[39m\u001b[38;5;124m\"\u001b[39m)\n\u001b[1;32m      7\u001b[0m     \u001b[38;5;28;01mif\u001b[39;00m number \u001b[38;5;241m==\u001b[39m \u001b[38;5;124m\"\u001b[39m\u001b[38;5;124mstop\u001b[39m\u001b[38;5;124m\"\u001b[39m:\n\u001b[1;32m      8\u001b[0m         \u001b[38;5;66;03m# Break the while loop\u001b[39;00m\n\u001b[1;32m      9\u001b[0m         \u001b[38;5;28;01mbreak\u001b[39;00m\n",
      "\u001b[0;31mNameError\u001b[0m: name 'raw_input' is not defined"
     ]
    }
   ],
   "source": [
    "# We will store the numbers entered by the user in a list\n",
    "list_of_numbers = []\n",
    "\n",
    "# We start an infite loop which will break when the user types stop\n",
    "while True:\n",
    "    number = raw_input(\"Enter a number or type stop: \")\n",
    "    if number == \"stop\":\n",
    "        # Break the while loop\n",
    "        break\n",
    "    else:\n",
    "        # Convert the input string to a float and add to the list\n",
    "        list_of_numbers.append(float(number))\n",
    "\n",
    "# The user has finished the input, now we compute the mean\n",
    "mean = sum(list_of_numbers) / len(list_of_numbers)\n",
    "print (\"The mean value is {0:.2f}\".format(mean))"
   ]
  },
  {
   "cell_type": "code",
   "execution_count": null,
   "id": "31c7f711-eda6-4cca-9824-9ef017849b86",
   "metadata": {},
   "outputs": [],
   "source": []
  },
  {
   "cell_type": "code",
   "execution_count": null,
   "id": "263fdaa3-aef4-47ce-8a55-f1d4863173ff",
   "metadata": {},
   "outputs": [],
   "source": []
  },
  {
   "cell_type": "code",
   "execution_count": null,
   "id": "ded1d182-df65-4402-841d-c26bce680041",
   "metadata": {},
   "outputs": [],
   "source": []
  }
 ],
 "metadata": {
  "kernelspec": {
   "display_name": "Python 3 (ipykernel)",
   "language": "python",
   "name": "python3"
  },
  "language_info": {
   "codemirror_mode": {
    "name": "ipython",
    "version": 3
   },
   "file_extension": ".py",
   "mimetype": "text/x-python",
   "name": "python",
   "nbconvert_exporter": "python",
   "pygments_lexer": "ipython3",
   "version": "3.8.13"
  }
 },
 "nbformat": 4,
 "nbformat_minor": 5
}
