{
 "cells": [
  {
   "cell_type": "code",
   "execution_count": null,
   "id": "210c173d-71f7-453e-8d1c-b0162616d14e",
   "metadata": {},
   "outputs": [],
   "source": [
    "# Write a program that prints all integers between 100 and 125 (including 100 and 125) to the screen using a for loop.\n",
    "\n"
   ]
  },
  {
   "cell_type": "code",
   "execution_count": 2,
   "id": "bc8956a9-f589-4181-a45d-3e035cb712a9",
   "metadata": {},
   "outputs": [
    {
     "name": "stdout",
     "output_type": "stream",
     "text": [
      "100\n",
      "101\n",
      "102\n",
      "103\n",
      "104\n",
      "105\n",
      "106\n",
      "107\n",
      "108\n",
      "109\n",
      "110\n",
      "111\n",
      "112\n",
      "113\n",
      "114\n",
      "115\n",
      "116\n",
      "117\n",
      "118\n",
      "119\n",
      "120\n",
      "121\n",
      "122\n",
      "123\n",
      "124\n",
      "125\n"
     ]
    }
   ],
   "source": [
    "for num in range(100, 126):\n",
    "    print(num)"
   ]
  },
  {
   "cell_type": "code",
   "execution_count": null,
   "id": "1f8d0c21-3328-4477-8168-1521fd7fe0df",
   "metadata": {},
   "outputs": [],
   "source": [
    "# do the same but this time us a whil loop"
   ]
  },
  {
   "cell_type": "code",
   "execution_count": 8,
   "id": "0ba77b2b-d609-4291-bfd0-60e52ca25d46",
   "metadata": {},
   "outputs": [
    {
     "name": "stdout",
     "output_type": "stream",
     "text": [
      "100\n",
      "101\n",
      "102\n",
      "103\n",
      "104\n",
      "105\n",
      "106\n",
      "107\n",
      "108\n",
      "109\n",
      "110\n",
      "111\n",
      "112\n",
      "113\n",
      "114\n",
      "115\n",
      "116\n",
      "117\n",
      "118\n",
      "119\n",
      "120\n",
      "121\n",
      "122\n",
      "123\n",
      "124\n",
      "125\n"
     ]
    }
   ],
   "source": [
    "num = 100\n",
    "while num < 126:\n",
    "    print (num)\n",
    "    num += 1"
   ]
  },
  {
   "cell_type": "code",
   "execution_count": null,
   "id": "d175da1c-1d3d-400e-852b-a7a5b3d658ee",
   "metadata": {},
   "outputs": [],
   "source": [
    "# Exercise 3\n",
    "# Do the same as exercise 1, but this time only print those numbers between 100 and 125 that are multiples of 3."
   ]
  },
  {
   "cell_type": "code",
   "execution_count": 11,
   "id": "e95d84c9-49c1-44ba-bcaf-5e495d2befc7",
   "metadata": {},
   "outputs": [
    {
     "name": "stdout",
     "output_type": "stream",
     "text": [
      "102\n",
      "105\n",
      "108\n",
      "111\n",
      "114\n",
      "117\n",
      "120\n",
      "123\n"
     ]
    }
   ],
   "source": [
    "for num in range(100, 126):\n",
    "    if num % 3 == 0:\n",
    "        print(num)"
   ]
  },
  {
   "cell_type": "code",
   "execution_count": 14,
   "id": "8bbd1c6c-e899-45c4-8b6a-b393b048737b",
   "metadata": {},
   "outputs": [
    {
     "name": "stdout",
     "output_type": "stream",
     "text": [
      "pear\n",
      "apple\n",
      "banana\n",
      "orange\n"
     ]
    }
   ],
   "source": [
    "fruit_names = ['pear', 'apple', 'banana', 'orange']\n",
    "for names in fruit_names:\n",
    "    print(names)"
   ]
  }
 ],
 "metadata": {
  "kernelspec": {
   "display_name": "Python 3 (ipykernel)",
   "language": "python",
   "name": "python3"
  },
  "language_info": {
   "codemirror_mode": {
    "name": "ipython",
    "version": 3
   },
   "file_extension": ".py",
   "mimetype": "text/x-python",
   "name": "python",
   "nbconvert_exporter": "python",
   "pygments_lexer": "ipython3",
   "version": "3.8.13"
  }
 },
 "nbformat": 4,
 "nbformat_minor": 5
}
